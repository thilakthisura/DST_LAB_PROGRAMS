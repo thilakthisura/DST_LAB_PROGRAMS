{
  "nbformat": 4,
  "nbformat_minor": 0,
  "metadata": {
    "colab": {
      "provenance": []
    },
    "kernelspec": {
      "name": "python3",
      "display_name": "Python 3"
    },
    "language_info": {
      "name": "python"
    }
  },
  "cells": [
    {
      "cell_type": "code",
      "execution_count": 4,
      "metadata": {
        "id": "uy5VdfdTsNGV",
        "colab": {
          "base_uri": "https://localhost:8080/"
        },
        "outputId": "9e90c387-6b9a-41e0-a2ff-721410d569d6"
      },
      "outputs": [
        {
          "name": "stdout",
          "output_type": "stream",
          "text": [
            "Enter no.of elements to be present in  the stack:3\n",
            "Select the operation 1.push 2.pop 3.quit\n",
            "1\n",
            "Enter the element:50\n",
            "[50]\n",
            "Select the operation 1.push 2.pop 3.quit\n",
            "1\n",
            "Enter the element:100\n",
            "[50, 100]\n",
            "Select the operation 1.push 2.pop 3.quit\n",
            "1\n",
            "Enter the element:150\n",
            "[50, 100, 150]\n",
            "Select the operation 1.push 2.pop 3.quit\n",
            "2\n",
            "removed element is: 150\n",
            "[50, 100]\n",
            "Select the operation 1.push 2.pop 3.quit\n",
            "3\n"
          ]
        }
      ],
      "source": [
        "# choose the option that will alter stacks\n",
        "stack=[]\n",
        "x=input(\"Enter no.of elements to be present in  the stack:\")\n",
        "def push():\n",
        "  if len(stack)==x:\n",
        "      print(\"Stack overflow\")\n",
        "      return\n",
        "  else:\n",
        "    element=int(input(\"Enter the element:\"))\n",
        "    stack.append(element)\n",
        "    print(stack)\n",
        "def pop_element():\n",
        "  if not stack:\n",
        "    print(\"stack is empty!\")\n",
        "  else:\n",
        "    e=stack.pop()\n",
        "    print(\"removed element is:\",e)\n",
        "    print(stack)\n",
        "\n",
        "while True:\n",
        "  print(\"Select the operation 1.push 2.pop 3.quit\")\n",
        "  choice=int(input())\n",
        "  if choice==1:\n",
        "    push()\n",
        "  elif choice==2:\n",
        "    pop_element()\n",
        "  elif  choice==3:\n",
        "    break\n",
        "  else:\n",
        "    print(\"Enter a valid operator!\")"
      ]
    },
    {
      "cell_type": "code",
      "source": [
        "class Node:\n",
        "    def __init__(self,data):\n",
        "        self.data=data\n",
        "        self.next=None\n",
        "def push(head,data):\n",
        "    newP=Node(data)\n",
        "    newP.next=head\n",
        "    if head!=None:\n",
        "        temp=head\n",
        "        while(temp.next!=head):\n",
        "            temp=temp.next\n",
        "        temp.next=newP\n",
        "    else:\n",
        "        newP.next=newP\n",
        "    head=newP\n",
        "    return head\n",
        "def printList(head):\n",
        "    if head==None:\n",
        "        print(\"List is empty\")\n",
        "        return\n",
        "    temp=head.next\n",
        "    print(head.data,end=' ')\n",
        "    if head!=None:\n",
        "        while(temp!=head):\n",
        "            print(temp.data,end=\" \")\n",
        "            temp=temp.next\n",
        "    print()\n",
        "def deleteNode(head, key):\n",
        "\tif (head == None):\n",
        "\t\treturn\n",
        "\n",
        "\tif (head.data == key and head.next == head):\n",
        "\t\thead = None\n",
        "\t\treturn\n",
        "\n",
        "\tlast = head\n",
        "\n",
        "\n",
        "\tif (head.data == key):\n",
        "\t\twhile (last.next != head):\n",
        "\t\t\tlast = last.next\n",
        "\n",
        "\n",
        "\t\tlast.next = head.next\n",
        "\t\thead = last.next\n",
        "\t\treturn\n",
        "\n",
        "\n",
        "\twhile (last.next != head and last.next.data != key):\n",
        "\t\tlast = last.next\n",
        "\n",
        "\n",
        "\tif (last.next.data == key):\n",
        "\t\td = last.next\n",
        "\t\tlast.next = d.next\n",
        "\t\td = None\n",
        "\telse:\n",
        "\t\tprint(\"Given node is not found in the list!!!\")\n",
        "\n",
        "\n",
        "head=None\n",
        "head=push(head,20)\n",
        "head=push(head,50)\n",
        "head=push(head,70)\n",
        "head=push(head,80)\n",
        "head=push(head,10)\n",
        "print(\"list before deletion: \")\n",
        "printList(head)\n",
        "deleteNode(head,70)\n",
        "print(\"list after deletion: \")\n",
        "printList(head)"
      ],
      "metadata": {
        "colab": {
          "base_uri": "https://localhost:8080/"
        },
        "id": "YiwK5PNFtN8x",
        "outputId": "66d0aa20-80d7-4a34-c271-5d4d24a42d42"
      },
      "execution_count": 3,
      "outputs": [
        {
          "output_type": "stream",
          "name": "stdout",
          "text": [
            "list before deletion: \n",
            "10 80 70 50 20 \n",
            "list after deletion: \n",
            "10 80 50 20 \n"
          ]
        }
      ]
    }
  ]
}