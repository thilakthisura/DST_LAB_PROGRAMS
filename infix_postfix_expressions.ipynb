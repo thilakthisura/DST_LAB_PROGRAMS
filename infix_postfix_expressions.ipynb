{
  "nbformat": 4,
  "nbformat_minor": 0,
  "metadata": {
    "colab": {
      "provenance": []
    },
    "kernelspec": {
      "name": "python3",
      "display_name": "Python 3"
    },
    "language_info": {
      "name": "python"
    }
  },
  "cells": [
    {
      "cell_type": "code",
      "execution_count": null,
      "metadata": {
        "colab": {
          "base_uri": "https://localhost:8080/"
        },
        "id": "hs96V_lkiopp",
        "outputId": "5c4a09c2-ece2-4709-d1fd-c90194de44f6"
      },
      "outputs": [
        {
          "output_type": "stream",
          "name": "stdout",
          "text": [
            "enter infix expression:A+B/C*(D+C)-F\n",
            "Infix Expression: A+B/C*(D+C)-F\n",
            "Postfix Expression: ABC/DC+*+F-\n"
          ]
        }
      ],
      "source": [
        "#infix to postfix convertion:\n",
        "def is_operator(char):\n",
        "    return char in {'+', '-', '*', '/'}\n",
        "\n",
        "def precedence(operator):\n",
        "    if operator == '+' or operator == '-':\n",
        "        return 1\n",
        "    elif operator == '*' or operator == '/':\n",
        "        return 2\n",
        "    else:\n",
        "        return 0\n",
        "\n",
        "def infix_to_postfix(infix_expression):\n",
        "    stack = []\n",
        "    postfix_expression = []\n",
        "\n",
        "    for char in infix_expression:\n",
        "        if char.isalnum():\n",
        "          postfix_expression.append(char)\n",
        "        elif char=='(':\n",
        "          stack.append(char)\n",
        "        elif char==')':\n",
        "          while stack and stack[-1]!='(':\n",
        "            postfix_expression.append(stack.pop())\n",
        "          stack.pop()\n",
        "        else:\n",
        "          while stack and precedence(stack[-1])>=precedence(char):\n",
        "            postfix_expression.append(stack.pop())\n",
        "          stack.append(char)\n",
        "    while stack:\n",
        "      postfix_expression.append(stack.pop())\n",
        "    return ''.join(postfix_expression)\n",
        "\n",
        "infix_expression = input(\"enter infix expression:\")\n",
        "postfix_expression = infix_to_postfix(infix_expression)\n",
        "print(\"Infix Expression:\", infix_expression)\n",
        "print(\"Postfix Expression:\", postfix_expression)"
      ]
    },
    {
      "cell_type": "code",
      "source": [
        "#evaluation of postfix expression:\n",
        "def is_operand(char):\n",
        "  return char.isalnum()\n",
        "def evaluate_postfix(postfix_expression):\n",
        "  stack=[]\n",
        "  for char in postfix_expression:\n",
        "    if is_operand(char):\n",
        "      stack.append(float(char))\n",
        "    else:\n",
        "      operand2=stack.pop()\n",
        "      operand1=stack.pop()\n",
        "      if char=='+':\n",
        "        res=operand1+operand2\n",
        "      elif char=='-':\n",
        "        res=operand1-operand2\n",
        "      elif char=='*':\n",
        "        res=operand1*operand2\n",
        "      elif char=='/':\n",
        "        res=operand1/operand2\n",
        "      stack.append(res)\n",
        "  return stack.pop()\n",
        "\n",
        "postfix_expression = input(\"enter the postfix expression:\")\n",
        "result = evaluate_postfix(postfix_expression)\n",
        "print(\"Postfix Expression:\", postfix_expression)\n",
        "print(\"Result:\", result)\n"
      ],
      "metadata": {
        "colab": {
          "base_uri": "https://localhost:8080/"
        },
        "id": "ZEos0pgonfot",
        "outputId": "147eb31d-56cf-4db6-f084-4a85da7a1c5d"
      },
      "execution_count": null,
      "outputs": [
        {
          "output_type": "stream",
          "name": "stdout",
          "text": [
            "enter the postfix expression:234+32*22+-\n",
            "Postfix Expression: 234+32*22+-\n",
            "Result: 2.0\n"
          ]
        }
      ]
    }
  ]
}